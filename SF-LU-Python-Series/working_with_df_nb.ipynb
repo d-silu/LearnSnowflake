{
 "cells": [
  {
   "cell_type": "code",
   "execution_count": 1,
   "metadata": {},
   "outputs": [
    {
     "data": {
      "text/plain": [
       "True"
      ]
     },
     "execution_count": 1,
     "metadata": {},
     "output_type": "execute_result"
    }
   ],
   "source": [
    "from snowflake.snowpark.session import Session\n",
    "from snowflake.snowpark import functions as F \n",
    "import os \n",
    "import dotenv\n",
    "dotenv.load_dotenv()"
   ]
  },
  {
   "cell_type": "code",
   "execution_count": 2,
   "metadata": {},
   "outputs": [
    {
     "data": {
      "text/plain": [
       "<snowflake.snowpark.session.Session at 0x7f6b61f4fe90>"
      ]
     },
     "execution_count": 2,
     "metadata": {},
     "output_type": "execute_result"
    }
   ],
   "source": [
    "session = Session.builder.configs(\n",
    "    dict(\n",
    "        user=os.getenv(\"SFUSER\"),\n",
    "        password=os.getenv('PASSWORD'),\n",
    "        account=os.getenv('ACCOUNT'),\n",
    "        role=os.getenv('ROLE'),\n",
    "        warehouse=os.getenv('WAREHOUSE'),\n",
    "        database=os.getenv('DATABASE'),\n",
    "        schema=os.getenv('SCHEMA')\n",
    "    )\n",
    ").create()\n",
    "\n",
    "session"
   ]
  },
  {
   "cell_type": "code",
   "execution_count": 3,
   "metadata": {},
   "outputs": [
    {
     "name": "stdout",
     "output_type": "stream",
     "text": [
      "--------------------------------------------------------------------------------------------------------------------------------------------------------------------------------------------------------------------------------------------------------------------------------------------------------------------------------------------------------------------------------------------\n",
      "|\"USER_ID\"                  |\"USER_NAME\"  |\"EMAIL_ID\"                       |\"SIGNIN_DT\"          |\"FIRST_NAME\"  |\"LAST_NAME\"  |\"AGE\"  |\"MOBILE\"           |\"ADDRESS\"                             |\"COUNTRY\"  |\"PROFESSION\"  |\"FIELD_OF_INTEREST\"  |\"REASON_OF_ENROLLMENT\"  |\"IS_VERIFIED\"  |\"VERIFICATION_TYPE\"  |\"VERIFICATION_ID\"  |\"COURSES\"                                           |\n",
      "--------------------------------------------------------------------------------------------------------------------------------------------------------------------------------------------------------------------------------------------------------------------------------------------------------------------------------------------------------------------------------------------\n",
      "|7b3288FOfbzpcs98dcbOX3404  |ybutala      |drishya.sridhar497@example.in    |2022-11-29 07:25:09  |Drishya       |Sridhar      |29     |+91-+919050376523  |10/22, Hari,Ganj,Jehanabad,870515     |India      |influencer    |language studies     |new hobby               |no             |NULL                 |NULL               |{\"1\":{\"certification_dt\":null,\"coupon_code\":\"RI...  |\n",
      "|0d9850UKyjwdrl83ydpRX3929  |sanimiraya   |zara.krish@bluevice.com          |2021-08-29 09:22:57  |Zara          |Krish        |32     |+91-4758350778     |H.No. 325, Sagar,Road,Sonipat,347199  |India      |artist        |IT                   |free-lancing            |yes            |adhar                |35037078550        |{\"1\":{\"certification_dt\":null,\"coupon_code\":\"RI...  |\n",
      "|3x171HVsouiav68hdlDF2991   |bjoshi       |manikya.savant784@example.com    |2021-07-17 22:58:50  |Manikya       |Savant       |36     |+91-+919393254611  |71, Dubey,Street,Ajmer,008474         |India      |homemaker     |design and artistic  |free-lancing            |yes            |adhar                |64554713814        |{\"1\":{\"certification_dt\":null,\"coupon_code\":\"AR...  |\n",
      "|9a7428TLqlebdu2bzgFR4377   |riya67       |arhaan.brahmbhatt842@example.in  |2022-10-16 15:04:04  |Arhaan        |Brahmbhatt   |20     |+91-2221986706     |78, Deshpande Zila,Kishanganj,021824  |India      |freelancer    |science              |self-improvement        |no             |NULL                 |NULL               |{\"1\":{\"certification_dt\":null,\"coupon_code\":\"CA...  |\n",
      "|0b1236JSrzliwo44dycRE6103  |kavyalal     |shanaya.kalla@example.in         |2022-04-01 13:54:04  |Shanaya       |Kalla        |43     |+91-+916369490153  |26/702, Badal Zila, Suryapet,229845   |India      |freelancer    |science              |new hobby               |no             |NULL                 |NULL               |{\"1\":{\"certification_dt\":\"2023-03-28 09:30:43\",...  |\n",
      "--------------------------------------------------------------------------------------------------------------------------------------------------------------------------------------------------------------------------------------------------------------------------------------------------------------------------------------------------------------------------------------------\n",
      "\n"
     ]
    }
   ],
   "source": [
    "# create a dataframe \n",
    "\n",
    "df = session.table('LEARNERS_POOL')\n",
    "df.show(5)"
   ]
  },
  {
   "cell_type": "code",
   "execution_count": 4,
   "metadata": {},
   "outputs": [
    {
     "data": {
      "text/plain": [
       "161"
      ]
     },
     "execution_count": 4,
     "metadata": {},
     "output_type": "execute_result"
    }
   ],
   "source": [
    "df.count()"
   ]
  },
  {
   "cell_type": "code",
   "execution_count": 5,
   "metadata": {},
   "outputs": [
    {
     "name": "stdout",
     "output_type": "stream",
     "text": [
      "-------------------------------------------------------------------------------------------------------------------------------------------------------------------------------------------------------------------------------------------------------------------------------------------------------------------------------------------------------------------------------------------------------------\n",
      "|\"USER_ID\"                   |\"USER_NAME\"     |\"EMAIL_ID\"                        |\"SIGNIN_DT\"          |\"FIRST_NAME\"  |\"LAST_NAME\"  |\"AGE\"  |\"MOBILE\"         |\"ADDRESS\"                                           |\"COUNTRY\"  |\"PROFESSION\"  |\"FIELD_OF_INTEREST\"  |\"REASON_OF_ENROLLMENT\"  |\"IS_VERIFIED\"  |\"VERIFICATION_TYPE\"  |\"VERIFICATION_ID\"  |\"COURSES\"                                           |\n",
      "-------------------------------------------------------------------------------------------------------------------------------------------------------------------------------------------------------------------------------------------------------------------------------------------------------------------------------------------------------------------------------------------------------------\n",
      "|7sa8447PSyjmltd16ntdMF6802  |olawrence       |sean.waller@yellowstone.in        |2022-07-22 10:35:47  |Sean          |Waller       |44     |+1-135-669-4744  |USNV Manning,FPO AE,77609                           |USA        |professional  |language studies     |free-lancing            |yes            |SSN                  |745-97-8217        |{\"1\":{\"certification_dt\":\"2022-10-04 19:18:17\",...  |\n",
      "|9au3637JGoolcoa65lftFY7637  |brandicurtis    |linda.anderson21@example.in       |2022-10-02 16:53:43  |Linda         |Anderson     |24     |+1-774-289-8449  |Unit 7081 Box 6985,DPO AA,77071                     |USA        |trainer       |language studies     |career change           |yes            |SSN                  |267-43-2458        |{\"1\":{\"certification_dt\":\"2022-12-08 00:38:07\",...  |\n",
      "|7ub8830CObsnrgz77nfkEW8366  |kylefarmer      |nicole.martinez@yellowstone.in    |2022-06-24 14:47:29  |Nicole        |Martinez     |24     |+1-669-632-7053  |4035 Cooper Streets,New Craigfurt, DC,08522         |USA        |trainer       |IT                   |free-lancing            |yes            |SSN                  |775-57-6244        |{\"1\":{\"certification_dt\":null,\"coupon_code\":\"DA...  |\n",
      "|5de6559PYdjmejl11plnOY5570  |deleonjeffrey   |paula.johnson@bluevice.com        |2021-04-17 22:38:39  |Paula         |Johnson      |49     |+1-887-694-6038  |831 Ronald Mountains Suite 020,Amymouth, OR,22647   |USA        |trainer       |design and artistic  |MOOC                    |yes            |SSN                  |672-97-6669        |{\"1\":{\"certification_dt\":null,\"coupon_code\":\"RI...  |\n",
      "|9au506IBrgxxvq80fteLY3804   |danielwhite     |christina.robinson43@example.com  |2021-07-14 12:00:58  |Christina     |Robinson     |29     |+1-719-313-3621  |3300 Adrian Village Apt. 568,Richardmouth, DE,7...  |USA        |artist        |language studies     |career change           |no             |NULL                 |NULL               |{\"1\":{\"certification_dt\":null,\"coupon_code\":\"LI...  |\n",
      "|9su684IQjtpusz54hdoXZ1680   |guerradavid     |william.clay28@seesight.com       |2021-09-05 01:43:38  |William       |Clay         |41     |+1-578-782-5035  |0782 Stephanie Place Suite 371,Lake Zacharymout...  |USA        |professional  |IT                   |MOOC                    |yes            |SSN                  |281-83-7559        |{\"1\":{\"certification_dt\":null,\"coupon_code\":\"DA...  |\n",
      "|0xu381HYgyqyhc27ipmDF8152   |douglasemily    |robert.hall@yellowstone.in        |2021-03-15 05:19:50  |Robert        |Hall         |39     |+1-307-239-3317  |9085 Cook Summit,New Heather, WV,05521              |USA        |freelancer    |IT                   |new hobby               |yes            |SSN                  |556-28-8093        |{\"1\":{\"certification_dt\":null,\"coupon_code\":\"PR...  |\n",
      "|7us8839KTlrpyzb15hkpZN6911  |copelandtina    |dakota.harper83@example.com       |2022-01-24 05:55:22  |Dakota        |Harper       |38     |+1-466-571-4696  |0032 Williams Valleys,Valenzuelachester, LA,86146   |USA        |businessman   |science              |MOOC                    |no             |NULL                 |NULL               |{\"1\":{\"certification_dt\":\"2023-11-08 23:14:32\",...  |\n",
      "|0zc4702FTnfhxcf39ficZM9889  |brent17         |angel.williams@seesight.com       |2021-10-11 23:17:59  |Angel         |Williams     |41     |+1-979-257-1090  |3797 Baker Parkways Suite 123,West Elizabeth, M...  |USA        |businessman   |science              |MOOC                    |yes            |SSN                  |579-24-3797        |{\"1\":{\"certification_dt\":null,\"coupon_code\":\"DO...  |\n",
      "|0xu2092DCxdqdfy62ufhMX3896  |keithrodriguez  |megan.chavez@bluevice.com         |2022-04-22 14:03:49  |Megan         |Chavez       |54     |+1-369-463-9978  |75508 Brown Mount,Margaretshire, ME,03738           |USA        |businessman   |design and artistic  |new hobby               |no             |NULL                 |NULL               |{\"1\":{\"certification_dt\":\"2023-04-02 15:31:01\",...  |\n",
      "-------------------------------------------------------------------------------------------------------------------------------------------------------------------------------------------------------------------------------------------------------------------------------------------------------------------------------------------------------------------------------------------------------------\n",
      "\n"
     ]
    }
   ],
   "source": [
    "# transformations (lazy evaluation)\n",
    "\n",
    "usa_learners = df.filter(F.col('COUNTRY')=='USA')\n",
    "usa_learners.show()"
   ]
  },
  {
   "cell_type": "code",
   "execution_count": 6,
   "metadata": {},
   "outputs": [
    {
     "data": {
      "text/plain": [
       "78"
      ]
     },
     "execution_count": 6,
     "metadata": {},
     "output_type": "execute_result"
    }
   ],
   "source": [
    "usa_learners.count()"
   ]
  },
  {
   "cell_type": "code",
   "execution_count": 9,
   "metadata": {},
   "outputs": [
    {
     "name": "stdout",
     "output_type": "stream",
     "text": [
      "----------------------------------------------------------------------------------------------------------------------------------------------------------------------------------------------------------------------------------------------------------------------------------------------------------------------------------------------------------------------------------------------------------------\n",
      "|\"USER_ID\"                  |\"USER_NAME\"  |\"EMAIL_ID\"                       |\"SIGNIN_DT\"          |\"FIRST_NAME\"  |\"LAST_NAME\"  |\"AGE\"  |\"MOBILE\"           |\"ADDRESS\"                             |\"COUNTRY\"  |\"PROFESSION\"  |\"FIELD_OF_INTEREST\"  |\"REASON_OF_ENROLLMENT\"  |\"IS_VERIFIED\"  |\"VERIFICATION_TYPE\"  |\"VERIFICATION_ID\"  |\"COURSES\"                                           |\"FULL_NAME\"        |\n",
      "----------------------------------------------------------------------------------------------------------------------------------------------------------------------------------------------------------------------------------------------------------------------------------------------------------------------------------------------------------------------------------------------------------------\n",
      "|7b3288FOfbzpcs98dcbOX3404  |ybutala      |drishya.sridhar497@example.in    |2022-11-29 07:25:09  |Drishya       |Sridhar      |29     |+91-+919050376523  |10/22, Hari,Ganj,Jehanabad,870515     |India      |influencer    |language studies     |new hobby               |no             |NULL                 |NULL               |{\"1\":{\"certification_dt\":null,\"coupon_code\":\"RI...  |Drishya Sridhar    |\n",
      "|0d9850UKyjwdrl83ydpRX3929  |sanimiraya   |zara.krish@bluevice.com          |2021-08-29 09:22:57  |Zara          |Krish        |32     |+91-4758350778     |H.No. 325, Sagar,Road,Sonipat,347199  |India      |artist        |IT                   |free-lancing            |yes            |adhar                |35037078550        |{\"1\":{\"certification_dt\":null,\"coupon_code\":\"RI...  |Zara Krish         |\n",
      "|3x171HVsouiav68hdlDF2991   |bjoshi       |manikya.savant784@example.com    |2021-07-17 22:58:50  |Manikya       |Savant       |36     |+91-+919393254611  |71, Dubey,Street,Ajmer,008474         |India      |homemaker     |design and artistic  |free-lancing            |yes            |adhar                |64554713814        |{\"1\":{\"certification_dt\":null,\"coupon_code\":\"AR...  |Manikya Savant     |\n",
      "|9a7428TLqlebdu2bzgFR4377   |riya67       |arhaan.brahmbhatt842@example.in  |2022-10-16 15:04:04  |Arhaan        |Brahmbhatt   |20     |+91-2221986706     |78, Deshpande Zila,Kishanganj,021824  |India      |freelancer    |science              |self-improvement        |no             |NULL                 |NULL               |{\"1\":{\"certification_dt\":null,\"coupon_code\":\"CA...  |Arhaan Brahmbhatt  |\n",
      "|0b1236JSrzliwo44dycRE6103  |kavyalal     |shanaya.kalla@example.in         |2022-04-01 13:54:04  |Shanaya       |Kalla        |43     |+91-+916369490153  |26/702, Badal Zila, Suryapet,229845   |India      |freelancer    |science              |new hobby               |no             |NULL                 |NULL               |{\"1\":{\"certification_dt\":\"2023-03-28 09:30:43\",...  |Shanaya Kalla      |\n",
      "----------------------------------------------------------------------------------------------------------------------------------------------------------------------------------------------------------------------------------------------------------------------------------------------------------------------------------------------------------------------------------------------------------------\n",
      "\n"
     ]
    }
   ],
   "source": [
    "df_1 = df.with_column('FULL_NAME', F.concat_ws(F.lit(' '),F.col('FIRST_NAME'),F.col('LAST_NAME')))\n",
    "df_1.show(5)"
   ]
  },
  {
   "cell_type": "code",
   "execution_count": 10,
   "metadata": {},
   "outputs": [
    {
     "name": "stdout",
     "output_type": "stream",
     "text": [
      "root\n",
      " |-- \"USER_ID\": StringType(16777216) (nullable = True)\n",
      " |-- \"USER_NAME\": StringType(16777216) (nullable = True)\n",
      " |-- \"EMAIL_ID\": StringType(16777216) (nullable = True)\n",
      " |-- \"SIGNIN_DT\": TimestampType(tz=ntz) (nullable = True)\n",
      " |-- \"FIRST_NAME\": StringType(50) (nullable = True)\n",
      " |-- \"LAST_NAME\": StringType(50) (nullable = True)\n",
      " |-- \"AGE\": LongType() (nullable = True)\n",
      " |-- \"MOBILE\": StringType(20) (nullable = True)\n",
      " |-- \"ADDRESS\": StringType(16777216) (nullable = True)\n",
      " |-- \"COUNTRY\": StringType(30) (nullable = True)\n",
      " |-- \"PROFESSION\": StringType(30) (nullable = True)\n",
      " |-- \"FIELD_OF_INTEREST\": StringType(30) (nullable = True)\n",
      " |-- \"REASON_OF_ENROLLMENT\": StringType(30) (nullable = True)\n",
      " |-- \"IS_VERIFIED\": StringType(10) (nullable = True)\n",
      " |-- \"VERIFICATION_TYPE\": StringType(20) (nullable = True)\n",
      " |-- \"VERIFICATION_ID\": StringType(20) (nullable = True)\n",
      " |-- \"COURSES\": StringType(16777216) (nullable = True)\n",
      " |-- \"FULL_NAME\": StringType(101) (nullable = True)\n"
     ]
    }
   ],
   "source": [
    "df_1.print_schema()"
   ]
  },
  {
   "cell_type": "code",
   "execution_count": null,
   "metadata": {},
   "outputs": [],
   "source": [
    "df_1.collect()"
   ]
  },
  {
   "cell_type": "markdown",
   "metadata": {},
   "source": [
    "    t.$1:\"_id\"::varchar user_id,\n",
    "    -- f.key,\n",
    "    f.value:course_id::varchar course_id,\n",
    "    f.value:enrolled_dt::datetime enrolled_date,\n",
    "    split(f.value:price_paid,' ')[0]::int price_paid,\n",
    "    split(f.value:price_paid, ' ')[1]::varchar payment_currency,\n",
    "    f.value:discount_applied::boolean discount_applied,\n",
    "    f.value:coupon_code::varchar coupon_code,\n",
    "    f.value:payment_method::varchar payment_method,\n",
    "    f.value:payment_id::varchar payment_id,\n",
    "    f.value:progress_status::varchar progress_status,\n",
    "    f.value:progress_report:: int progress_report,\n",
    "    f.value:certification_dt::datetime certification_date"
   ]
  },
  {
   "cell_type": "code",
   "execution_count": null,
   "metadata": {},
   "outputs": [],
   "source": []
  }
 ],
 "metadata": {
  "kernelspec": {
   "display_name": "Python 3",
   "language": "python",
   "name": "python3"
  },
  "language_info": {
   "codemirror_mode": {
    "name": "ipython",
    "version": 3
   },
   "file_extension": ".py",
   "mimetype": "text/x-python",
   "name": "python",
   "nbconvert_exporter": "python",
   "pygments_lexer": "ipython3",
   "version": "3.11.7"
  }
 },
 "nbformat": 4,
 "nbformat_minor": 2
}
